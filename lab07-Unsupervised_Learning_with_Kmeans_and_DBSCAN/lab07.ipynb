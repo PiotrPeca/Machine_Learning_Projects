{
 "cells": [
  {
   "cell_type": "code",
   "execution_count": 1,
   "id": "f93bb5e0-2da3-4830-a369-a79753e2e322",
   "metadata": {},
   "outputs": [],
   "source": [
    "from sklearn.datasets import fetch_openml\n",
    "from sklearn.model_selection import train_test_split\n",
    "from sklearn.cluster import KMeans, DBSCAN\n",
    "from sklearn.metrics import silhouette_score, confusion_matrix\n",
    "import numpy as np\n",
    "import pandas as pd\n",
    "import matplotlib.pyplot as plt\n",
    "import pickle"
   ]
  },
  {
   "cell_type": "code",
   "execution_count": 2,
   "id": "cc1635a2-cecf-4af5-bf76-d0f72deef3e7",
   "metadata": {},
   "outputs": [],
   "source": [
    "mnist = fetch_openml('mnist_784', version=1, as_frame=False, parser='auto')\n",
    "mnist.target = mnist.target.astype(np.uint8)\n",
    "X = mnist[\"data\"]\n",
    "y = mnist[\"target\"]"
   ]
  },
  {
   "cell_type": "code",
   "execution_count": 3,
   "id": "fa8b19fb-8c23-4551-9553-efb5cac5f69b",
   "metadata": {},
   "outputs": [
    {
     "name": "stdout",
     "output_type": "stream",
     "text": [
      "Cluster number: 8, Silhouette score: 0.07338865262913863\n",
      "Cluster number: 9, Silhouette score: 0.05681022835989294\n",
      "Cluster number: 10, Silhouette score: 0.058779462477890426\n",
      "Cluster number: 11, Silhouette score: 0.0583425751043781\n",
      "Cluster number: 12, Silhouette score: 0.058170873187227586\n"
     ]
    }
   ],
   "source": [
    "# KMeans for 8, 9, 10, 11, 12 clusters\n",
    "\n",
    "clusters = range(8, 13)\n",
    "silhouette_scores = []\n",
    "\n",
    "for cluster in clusters:\n",
    "    kmeans = KMeans(n_clusters=cluster, n_init=10)\n",
    "    y_pred = kmeans.fit_predict(X)\n",
    "    if cluster == 10:\n",
    "        y_pred_10 = y_pred\n",
    "    score = silhouette_score(X, kmeans.labels_)\n",
    "    print(f'Cluster number: {cluster}, Silhouette score: {score}')\n",
    "    silhouette_scores.append(score) "
   ]
  },
  {
   "cell_type": "code",
   "execution_count": 4,
   "id": "2adf684b-bb08-422b-af40-e93455c80cd2",
   "metadata": {},
   "outputs": [
    {
     "name": "stdout",
     "output_type": "stream",
     "text": [
      "[0.07338865262913863, 0.05681022835989294, 0.058779462477890426, 0.0583425751043781, 0.058170873187227586]\n"
     ]
    }
   ],
   "source": [
    "with open(\"kmeans_sil.pkl\", \"wb\") as f:\n",
    "    pickle.dump(silhouette_scores, f)\n",
    "\n",
    "with open(\"kmeans_sil.pkl\", \"rb\") as f:\n",
    "    print(pickle.load(f))"
   ]
  },
  {
   "cell_type": "code",
   "execution_count": 5,
   "id": "196a75de-e0f0-45a1-80ca-170a6ded6fe4",
   "metadata": {},
   "outputs": [],
   "source": [
    "conf_m = confusion_matrix(y, y_pred_10)\n",
    "\n",
    "max_value_indeces = sorted(set(np.argmax(conf_m, axis=1)))"
   ]
  },
  {
   "cell_type": "code",
   "execution_count": 6,
   "id": "0decf421-c4ac-45a1-8034-05cedc5cf2ff",
   "metadata": {},
   "outputs": [
    {
     "name": "stdout",
     "output_type": "stream",
     "text": [
      "[0, 1, 2, 3, 4, 5, 6, 7]\n"
     ]
    }
   ],
   "source": [
    "with open(\"kmeans_argmax.pkl\", \"wb\") as f:\n",
    "    pickle.dump(max_value_indeces, f)\n",
    "\n",
    "with open(\"kmeans_argmax.pkl\", \"rb\") as f:\n",
    "    print(pickle.load(f))"
   ]
  },
  {
   "cell_type": "code",
   "execution_count": 7,
   "id": "bbc19985-ac31-4861-9d4d-5e809c1701d9",
   "metadata": {},
   "outputs": [],
   "source": [
    "# DBSCAN\n",
    "\n",
    "distances = []\n",
    "\n",
    "for i in range(300):\n",
    "    x1 = X[i]\n",
    "    for j in range(len(X)):\n",
    "        if i != j:\n",
    "            x2 = X[j]\n",
    "            distance = np.linalg.norm(x1-x2)\n",
    "            if distance != 0:\n",
    "                distances.append(distance)\n",
    "\n",
    "result_distances = sorted(distances)[:10]"
   ]
  },
  {
   "cell_type": "code",
   "execution_count": 8,
   "id": "ffef1208-9388-4645-8360-fe6d0915ef7a",
   "metadata": {},
   "outputs": [
    {
     "name": "stdout",
     "output_type": "stream",
     "text": [
      "[279.26152617215286, 304.37641170103836, 317.5893575043093, 328.7658741414626, 333.4546445920344, 352.89800226127664, 355.1774204534967, 358.07401469528617, 359.64287842247063, 360.42474942767177]\n"
     ]
    }
   ],
   "source": [
    "with open(\"dist.pkl\", \"wb\") as f:\n",
    "    pickle.dump(result_distances, f)\n",
    "\n",
    "with open(\"dist.pkl\", \"rb\") as f:\n",
    "    print(pickle.load(f))"
   ]
  },
  {
   "cell_type": "code",
   "execution_count": 9,
   "id": "dd1fdf8c-9cd2-4de6-b713-7eeb1c0187e4",
   "metadata": {},
   "outputs": [],
   "source": [
    "s = np.mean(result_distances[:3])\n",
    "\n",
    "epsilons = np.arange(s, 1.1*s, 0.04*s)\n",
    "\n",
    "n_unique_labels = []\n",
    "\n",
    "for eps in epsilons:\n",
    "    dbscan = DBSCAN(eps=eps)\n",
    "    dbscan.fit(X)\n",
    "    unique_labels = np.unique(dbscan.labels_)\n",
    "    n_labels = len(unique_labels[unique_labels != -1])\n",
    "    n_unique_labels.append(n_labels)"
   ]
  },
  {
   "cell_type": "code",
   "execution_count": 10,
   "id": "d2cdb80e-8d80-44b1-b31f-f1a762440d3f",
   "metadata": {},
   "outputs": [
    {
     "name": "stdout",
     "output_type": "stream",
     "text": [
      "[3, 6, 21]\n"
     ]
    }
   ],
   "source": [
    "with open(\"dbscan_len.pkl\", \"wb\") as f:\n",
    "    pickle.dump(n_unique_labels, f)\n",
    "\n",
    "with open(\"dbscan_len.pkl\", \"rb\") as f:\n",
    "    print(pickle.load(f))"
   ]
  }
 ],
 "metadata": {
  "kernelspec": {
   "display_name": "Python 3 (ipykernel)",
   "language": "python",
   "name": "python3"
  },
  "language_info": {
   "codemirror_mode": {
    "name": "ipython",
    "version": 3
   },
   "file_extension": ".py",
   "mimetype": "text/x-python",
   "name": "python",
   "nbconvert_exporter": "python",
   "pygments_lexer": "ipython3",
   "version": "3.11.11"
  }
 },
 "nbformat": 4,
 "nbformat_minor": 5
}
