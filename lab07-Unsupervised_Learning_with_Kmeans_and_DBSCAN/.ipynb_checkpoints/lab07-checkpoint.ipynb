{
 "cells": [
  {
   "cell_type": "code",
   "execution_count": 10,
   "id": "f93bb5e0-2da3-4830-a369-a79753e2e322",
   "metadata": {},
   "outputs": [],
   "source": [
    "from sklearn.datasets import fetch_openml\n",
    "from sklearn.model_selection import train_test_split\n",
    "from sklearn.cluster import KMeans, DBSCAN\n",
    "from sklearn.metrics import silhouette_score, confusion_matrix\n",
    "import numpy as np\n",
    "import pandas as pd\n",
    "import matplotlib.pyplot as plt\n",
    "import pickle"
   ]
  },
  {
   "cell_type": "code",
   "execution_count": 2,
   "id": "cc1635a2-cecf-4af5-bf76-d0f72deef3e7",
   "metadata": {},
   "outputs": [],
   "source": [
    "mnist = fetch_openml('mnist_784', version=1, as_frame=False, parser='auto')\n",
    "mnist.target = mnist.target.astype(np.uint8)\n",
    "X = mnist[\"data\"]\n",
    "y = mnist[\"target\"]"
   ]
  },
  {
   "cell_type": "code",
   "execution_count": 33,
   "id": "fa8b19fb-8c23-4551-9553-efb5cac5f69b",
   "metadata": {},
   "outputs": [
    {
     "name": "stdout",
     "output_type": "stream",
     "text": [
      "12\n",
      "10\n"
     ]
    }
   ],
   "source": [
    "# KMeans for 8, 9, 10, 11, 12 clusters\n",
    "\n",
    "clusters = range(8, 13)\n",
    "silhouette_scores = []\n",
    "\n",
    "for cluster in clusters:\n",
    "    kmeans = KMeans(n_clusters=cluster, n_init=10)\n",
    "    y_pred = kmeans.fit_predict(X)\n",
    "    if cluster == 10:\n",
    "        y_pred_10 = y_pred\n",
    "    score = silhouette_score(X, kmeans.labels_)\n",
    "    print(f'Cluster number: {cluster}, Silhouette score: {score}')\n",
    "    silhouette_scores.append(score)"
   ]
  },
  {
   "cell_type": "code",
   "execution_count": 9,
   "id": "2adf684b-bb08-422b-af40-e93455c80cd2",
   "metadata": {},
   "outputs": [
    {
     "name": "stdout",
     "output_type": "stream",
     "text": [
      "[0.07338422867481391, 0.056811948177874876, 0.05869201052848778, 0.058356691238912635, 0.05819052090257808]\n"
     ]
    }
   ],
   "source": [
    "with open(\"kmeans_sil.pkl\", \"wb\") as f:\n",
    "    pickle.dump(silhouette_scores, f)\n",
    "\n",
    "with open(\"kmeans_sil.pkl\", \"rb\") as f:\n",
    "    print(pickle.load(f))"
   ]
  },
  {
   "cell_type": "code",
   "execution_count": 14,
   "id": "196a75de-e0f0-45a1-80ca-170a6ded6fe4",
   "metadata": {},
   "outputs": [
    {
     "name": "stdout",
     "output_type": "stream",
     "text": [
      "[[  22  222  406    3 2977  139   63 3034    0   12   19    6]\n",
      " [   5   11   24 3465    0    5    9    0 4330   13   10    5]\n",
      " [ 159  316  430  398  110   74  195   12  312 4867   47   70]\n",
      " [ 102 4648  325   40   94   23 1137   16  323  256  141   36]\n",
      " [2586    0  479  128   10   95    8    4   84   11 1756 1663]\n",
      " [ 247 2098 1846   90  166   62 1234   66   77    8  265  154]\n",
      " [  94   33 2564   23  117 3874   12   79   33   41    5    1]\n",
      " [ 756    3   13  248   11    3    9   10  242   42 2792 3164]\n",
      " [ 147 1275  339  231   37   38 4086   41  243   49  161  178]\n",
      " [1855   92   34   62   25    7   49   32  138    8 2804 1852]\n",
      " [   0    0    0    0    0    0    0    0    0    0    0    0]\n",
      " [   0    0    0    0    0    0    0    0    0    0    0    0]]\n"
     ]
    }
   ],
   "source": [
    "print(confusion_matrix(y, y_pred))"
   ]
  }
 ],
 "metadata": {
  "kernelspec": {
   "display_name": "Python 3 (ipykernel)",
   "language": "python",
   "name": "python3"
  },
  "language_info": {
   "codemirror_mode": {
    "name": "ipython",
    "version": 3
   },
   "file_extension": ".py",
   "mimetype": "text/x-python",
   "name": "python",
   "nbconvert_exporter": "python",
   "pygments_lexer": "ipython3",
   "version": "3.11.11"
  }
 },
 "nbformat": 4,
 "nbformat_minor": 5
}
