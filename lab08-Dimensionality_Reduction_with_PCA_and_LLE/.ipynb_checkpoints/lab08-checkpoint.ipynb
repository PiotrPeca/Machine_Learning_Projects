{
 "cells": [
  {
   "cell_type": "code",
   "execution_count": 16,
   "id": "4c05b538-3c33-4db8-895e-dc7c20279c18",
   "metadata": {},
   "outputs": [],
   "source": [
    "from sklearn.datasets import load_breast_cancer, load_iris\n",
    "from sklearn.preprocessing import StandardScaler\n",
    "from sklearn.decomposition import PCA\n",
    "import numpy as np\n",
    "import pandas as pd\n",
    "import pickle"
   ]
  },
  {
   "cell_type": "code",
   "execution_count": 28,
   "id": "3c3e15ba-1385-4388-98f9-401eb739ed83",
   "metadata": {},
   "outputs": [],
   "source": [
    "def process_dataset(data, filename):\n",
    "    X = data.data\n",
    "\n",
    "    #Without scaling\n",
    "    pca_unscaled = PCA(n_components=0.9)\n",
    "    X_pca_unscaled = pca_unscaled.fit_transform(X)\n",
    "\n",
    "    explained_variance_unscaled = pca_unscaled.explained_variance_ratio_\n",
    "\n",
    "    #With scaling\n",
    "    scaler = StandardScaler()\n",
    "    X_scaled = scaler.fit_transform(X)\n",
    "\n",
    "    pca_scaled = PCA(n_components=0.9)\n",
    "    X_pca_scaled = pca_scaled.fit_transform(X_scaled)\n",
    "\n",
    "    explained_variance_scaled = pca_scaled.explained_variance_ratio_\n",
    "\n",
    "    with open(filename, 'wb') as f:\n",
    "        pickle.dump(list(explained_variance_scaled), f)\n",
    "\n",
    "    print(f'{filename}:')\n",
    "    print(f'[Bez skalowania]: Zachowano {len(explained_variance_unscaled)} wymiarów')\n",
    "    print(f'[Ze skalowaniem]: Zachowano {len(explained_variance_scaled)} wymiarów')\n",
    "\n",
    "    with open(filename, 'rb') as f:\n",
    "        print(pickle.load(f), '\\n')\n"
   ]
  },
  {
   "cell_type": "code",
   "execution_count": 29,
   "id": "964289f6-7c74-4eb4-86b0-70593dd661e7",
   "metadata": {},
   "outputs": [
    {
     "name": "stdout",
     "output_type": "stream",
     "text": [
      "pca_bc.pkl:\n",
      "[Bez skalowania]: Zachowano 1 wymiarów\n",
      "[Ze skalowaniem]: Zachowano 7 wymiarów\n",
      "[0.44272025607526366, 0.1897118204403308, 0.09393163257431389, 0.06602134915470144, 0.05495768492346266, 0.04024522039883349, 0.02250733712982509] \n",
      "\n",
      "pca_ir.pkl:\n",
      "[Bez skalowania]: Zachowano 1 wymiarów\n",
      "[Ze skalowaniem]: Zachowano 2 wymiarów\n",
      "[0.7296244541329991, 0.22850761786701745] \n",
      "\n"
     ]
    }
   ],
   "source": [
    "data_breast_cancer = datasets.load_breast_cancer()\n",
    "process_dataset(data_breast_cancer, 'pca_bc.pkl')\n",
    "\n",
    "data_iris = load_iris()\n",
    "process_dataset(data_iris, 'pca_ir.pkl')"
   ]
  },
  {
   "cell_type": "code",
   "execution_count": 45,
   "id": "35655469-f976-4dcd-85de-76ecd699bc54",
   "metadata": {},
   "outputs": [],
   "source": [
    "def feature_influence_ranking(data, filename):\n",
    "    X = data.data\n",
    "\n",
    "    scaler = StandardScaler()\n",
    "    X_scaled = scaler.fit_transform(X)\n",
    "\n",
    "    pca = PCA(n_components=0.9)\n",
    "    X_pca = pca.fit_transform(X_scaled)\n",
    "\n",
    "    components = pca.components_\n",
    "    variance_ratios = pca.explained_variance_ratio_\n",
    "\n",
    "    weighted = np.abs(components * variance_ratios[:, np.newaxis])\n",
    "    sorted_indices = np.argsort(np.max(weighted, axis=0))[::-1]\n",
    "\n",
    "    with open(filename, 'wb') as f:\n",
    "        pickle.dump(sorted_indices, f)\n",
    "\n",
    "    with open(filename, 'rb') as f:\n",
    "        print(pickle.load(f), '\\n')"
   ]
  },
  {
   "cell_type": "code",
   "execution_count": 46,
   "id": "10ad193f-d235-4a09-92ae-209ea956cfd0",
   "metadata": {},
   "outputs": [
    {
     "name": "stdout",
     "output_type": "stream",
     "text": [
      "[ 7  6 27  5 22 26 20  2 23  3  0 12 25 10 13 17 15  9 16  4  8 29 24 28\n",
      " 19 21  1 14 11 18] \n",
      "\n",
      "[2 3 0 1] \n",
      "\n"
     ]
    }
   ],
   "source": [
    "feature_influence_ranking(data_breast_cancer, 'idx_bc.pkl')\n",
    "feature_influence_ranking(data_iris, 'idx_ir.pkl')"
   ]
  },
  {
   "cell_type": "code",
   "execution_count": null,
   "id": "d4f19322-95f4-4570-9244-cc06e0bc4ce3",
   "metadata": {},
   "outputs": [],
   "source": []
  }
 ],
 "metadata": {
  "kernelspec": {
   "display_name": "Python 3 (ipykernel)",
   "language": "python",
   "name": "python3"
  },
  "language_info": {
   "codemirror_mode": {
    "name": "ipython",
    "version": 3
   },
   "file_extension": ".py",
   "mimetype": "text/x-python",
   "name": "python",
   "nbconvert_exporter": "python",
   "pygments_lexer": "ipython3",
   "version": "3.11.11"
  }
 },
 "nbformat": 4,
 "nbformat_minor": 5
}
