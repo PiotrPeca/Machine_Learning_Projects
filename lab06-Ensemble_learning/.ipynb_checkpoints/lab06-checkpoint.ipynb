{
 "cells": [
  {
   "cell_type": "code",
   "execution_count": 9,
   "id": "cbcd8b0f-2c53-485c-a232-cbe09ab5ec92",
   "metadata": {},
   "outputs": [],
   "source": [
    "import numpy as np\n",
    "import pandas as pd\n",
    "import pickle\n",
    "from sklearn.tree import DecisionTreeClassifier\n",
    "from sklearn.linear_model import LogisticRegression\n",
    "from sklearn.neighbors import KNeighborsClassifier\n",
    "from sklearn.model_selection import train_test_split\n",
    "from sklearn.metrics import accuracy_score\n",
    "from sklearn import datasets\n",
    "from sklearn.ensemble import VotingClassifier, BaggingClassifier, RandomForestClassifier, AdaBoostClassifier, GradientBoostingClassifier"
   ]
  },
  {
   "cell_type": "code",
   "execution_count": 7,
   "id": "af612819-e9c5-4a32-a26c-3d2b8780bbb5",
   "metadata": {},
   "outputs": [],
   "source": [
    "data_breast_cancer = datasets.load_breast_cancer(as_frame=True)\n",
    "\n",
    "X = data_breast_cancer['data'][['mean texture', 'mean symmetry']]\n",
    "y = data_breast_cancer['target']"
   ]
  },
  {
   "cell_type": "code",
   "execution_count": 8,
   "id": "c33c7f9a-2995-4104-8337-77c008cee6d1",
   "metadata": {},
   "outputs": [],
   "source": [
    "X_train, X_test, y_train, y_test = train_test_split(X, y, test_size=0.2)"
   ]
  },
  {
   "cell_type": "code",
   "execution_count": 44,
   "id": "243f20e2-8023-448a-83c0-8aa963e8edc2",
   "metadata": {},
   "outputs": [
    {
     "name": "stdout",
     "output_type": "stream",
     "text": [
      "==== DecisionTreeClassifier ==== \n",
      "train data: 1.0, \n",
      "test data: 0.6491228070175439\n",
      "\n",
      "==== LogisticRegression ==== \n",
      "train data: 0.7296703296703296, \n",
      "test data: 0.6754385964912281\n",
      "\n",
      "==== KNeighborsClassifier ==== \n",
      "train data: 0.7736263736263737, \n",
      "test data: 0.6842105263157895\n",
      "\n",
      "==== VotingClassifierHard ==== \n",
      "train data: 0.8395604395604396, \n",
      "test data: 0.7105263157894737\n",
      "\n",
      "==== VotingClassifierSoft ==== \n",
      "train data: 0.9648351648351648, \n",
      "test data: 0.6754385964912281\n",
      "\n"
     ]
    }
   ],
   "source": [
    "# Voting Classifier\n",
    "\n",
    "tree_clf = DecisionTreeClassifier()\n",
    "reg_log = LogisticRegression()\n",
    "knn_clf = KNeighborsClassifier()\n",
    "\n",
    "voting_clf_hard = VotingClassifier(\n",
    "    estimators=[('tc', tree_clf),\n",
    "                ('rl', reg_log), \n",
    "                ('kc', knn_clf)],\n",
    "    voting='hard'\n",
    ")\n",
    "voting_clf_soft = VotingClassifier(\n",
    "    estimators=[('tc', tree_clf),\n",
    "                ('rl', reg_log), \n",
    "                ('kc', knn_clf)],\n",
    "    voting='soft'\n",
    ")\n",
    "\n",
    "models = {tree_clf : \"DecisionTreeClassifier\", reg_log : \"LogisticRegression\", knn_clf : \"KNeighborsClassifier\", voting_clf_hard : \"VotingClassifierHard\", voting_clf_soft : \"VotingClassifierSoft\"}\n",
    "acc_results = []\n",
    "\n",
    "for clf, name in models.items():\n",
    "    clf.fit(X_train, y_train)\n",
    "    y_pred_train = clf.predict(X_train)\n",
    "    y_pred_test = clf.predict(X_test)\n",
    "    acc_train = accuracy_score(y_train, y_pred_train)\n",
    "    acc_test = accuracy_score(y_test, y_pred_test)\n",
    "    acc_results.append((acc_train, acc_test))\n",
    "    print(f'==== {name} ==== \\ntrain data: {acc_train}, \\ntest data: {acc_test}\\n')"
   ]
  },
  {
   "cell_type": "code",
   "execution_count": 51,
   "id": "07d7f58e-b23a-4b81-821c-6f3330fe63f1",
   "metadata": {},
   "outputs": [
    {
     "name": "stdout",
     "output_type": "stream",
     "text": [
      "[(1.0, 0.6491228070175439), (0.7296703296703296, 0.6754385964912281), (0.7736263736263737, 0.6842105263157895), (0.8395604395604396, 0.7105263157894737), (0.9648351648351648, 0.6754385964912281)]\n",
      "[DecisionTreeClassifier(), LogisticRegression(), KNeighborsClassifier(), VotingClassifier(estimators=[('tc', DecisionTreeClassifier()),\n",
      "                             ('rl', LogisticRegression()),\n",
      "                             ('kc', KNeighborsClassifier())]), VotingClassifier(estimators=[('tc', DecisionTreeClassifier()),\n",
      "                             ('rl', LogisticRegression()),\n",
      "                             ('kc', KNeighborsClassifier())],\n",
      "                 voting='soft')]\n"
     ]
    }
   ],
   "source": [
    "with open(\"acc_vote.pkl\", \"wb\") as f:\n",
    "    pickle.dump(acc_results, f)\n",
    "    \n",
    "with open(\"vote.pkl\", \"wb\") as f:\n",
    "    pickle.dump(list(models.keys()), f)\n",
    "\n",
    "with open(\"acc_vote.pkl\", \"rb\") as f:\n",
    "    print(pickle.load(f))\n",
    "    \n",
    "with open(\"vote.pkl\", \"rb\") as f:\n",
    "    print(pickle.load(f))"
   ]
  },
  {
   "cell_type": "code",
   "execution_count": null,
   "id": "bd229b54-9d05-4471-8dc6-7a5ef208d684",
   "metadata": {},
   "outputs": [],
   "source": []
  }
 ],
 "metadata": {
  "kernelspec": {
   "display_name": "Python 3 (ipykernel)",
   "language": "python",
   "name": "python3"
  },
  "language_info": {
   "codemirror_mode": {
    "name": "ipython",
    "version": 3
   },
   "file_extension": ".py",
   "mimetype": "text/x-python",
   "name": "python",
   "nbconvert_exporter": "python",
   "pygments_lexer": "ipython3",
   "version": "3.11.11"
  }
 },
 "nbformat": 4,
 "nbformat_minor": 5
}
